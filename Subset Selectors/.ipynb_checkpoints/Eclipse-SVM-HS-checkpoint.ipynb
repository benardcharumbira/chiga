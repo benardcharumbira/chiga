{
 "cells": [
  {
   "cell_type": "code",
   "execution_count": 7,
   "id": "2f155644",
   "metadata": {
    "scrolled": false
   },
   "outputs": [
    {
     "name": "stdout",
     "output_type": "stream",
     "text": [
      "Requirement already satisfied: simanneal in /Users/benardcharumbira/opt/anaconda3/lib/python3.9/site-packages (0.5.0)\r\n"
     ]
    }
   ],
   "source": [
    "import sys\n",
    "!{sys.executable} -m pip install simanneal"
   ]
  },
  {
   "cell_type": "code",
   "execution_count": 8,
   "id": "80690e01",
   "metadata": {},
   "outputs": [],
   "source": [
    "# Import necessary libraries\n",
    "import numpy as np\n",
    "import pandas as pd\n",
    "from sklearn.preprocessing import MinMaxScaler\n",
    "from sklearn.model_selection import train_test_split\n",
    "from sklearn.neighbors import KNeighborsClassifier\n",
    "from simanneal import Annealer\n",
    "from sklearn.metrics import accuracy_score\n",
    "\n",
    "# Load dataset (using the JM1 dataset as an example)\n",
    "data = pd.read_csv('../cm1.csv')\n",
    "\n",
    "# Drop any missing values\n",
    "data = data.dropna()\n",
    "\n",
    "# Separate features and target\n",
    "X = data.iloc[:, :-1]\n",
    "y = data.iloc[:, -1]\n",
    "\n",
    "\n",
    "# Normalize data\n",
    "scaler = MinMaxScaler()\n",
    "X = scaler.fit_transform(X)\n",
    "\n",
    "X_train, X_test, y_train, y_test = train_test_split(X, y, test_size=0.2, random_state=42)"
   ]
  },
  {
   "cell_type": "code",
   "execution_count": 9,
   "id": "165326d0",
   "metadata": {},
   "outputs": [
    {
     "name": "stderr",
     "output_type": "stream",
     "text": [
      " Temperature        Energy    Accept   Improve     Elapsed   Remaining\n",
      "     0.00110         -0.90    31.90%     0.00%     0:00:51     0:00:24 Temperature        Energy    Accept   Improve     Elapsed   Remaining\n",
      "     0.00110         -0.90    23.75%     0.00%     0:00:12     0:00:00"
     ]
    },
    {
     "data": {
      "text/plain": [
       "KNeighborsClassifier()"
      ]
     },
     "execution_count": 9,
     "metadata": {},
     "output_type": "execute_result"
    }
   ],
   "source": [
    "# Define the Annealer to optimize feature subset\n",
    "class FeatureSelection(Annealer):\n",
    "\n",
    "    def move(self):\n",
    "        \"\"\"Swaps one feature on/off.\"\"\"\n",
    "        idx_to_change = np.random.randint(0, len(self.state))\n",
    "        self.state[idx_to_change] = 1 - self.state[idx_to_change]  # toggle between 0 and 1\n",
    "\n",
    "    def energy(self):\n",
    "        \"\"\"Evaluates the accuracy of KNN on the selected features.\"\"\"\n",
    "        indices = [index for index, value in enumerate(self.state) if value]\n",
    "        if not indices:\n",
    "            return 1e5  # Penalize if no features are selected\n",
    "        \n",
    "        X_train_selected = X_train[:, indices]\n",
    "        X_test_selected = X_test[:, indices]\n",
    "        \n",
    "        clf = KNeighborsClassifier()\n",
    "        clf.fit(X_train_selected, y_train)\n",
    "        y_pred = clf.predict(X_test_selected)\n",
    "        return -accuracy_score(y_test, y_pred)  # We negate the score as we want to maximize accuracy\n",
    "\n",
    "# Initialize with random features\n",
    "initial_state = np.random.choice([0, 1], size=X_train.shape[1])\n",
    "\n",
    "fs = FeatureSelection(initial_state)\n",
    "fs.set_schedule(fs.auto(minutes=0.2))  # You can adjust this for longer/shorter runs\n",
    "state, e = fs.anneal()\n",
    "\n",
    "selected_features = [index for index, value in enumerate(state) if value]\n",
    "X_train_selected = X_train[:, selected_features]\n",
    "X_test_selected = X_test[:, selected_features]\n",
    "\n",
    "# Train KNN on selected features\n",
    "clf = KNeighborsClassifier()\n",
    "clf.fit(X_train_selected, y_train)\n"
   ]
  },
  {
   "cell_type": "code",
   "execution_count": 10,
   "id": "b12d7c7f",
   "metadata": {},
   "outputs": [
    {
     "data": {
      "image/png": "[encoded data removed]",
      "text/plain": [
       "<Figure size 432x288 with 1 Axes>"
      ]
     },
     "metadata": {
      "needs_background": "light"
     },
     "output_type": "display_data"
    }
   ],
   "source": [
    "import matplotlib.pyplot as plt\n",
    "from sklearn.metrics import roc_curve, roc_auc_score\n",
    "\n",
    "# probabilities for the positive outcome\n",
    "y_pred_proba = clf.predict_proba(X_test_selected)[:,1]\n",
    "# Compute ROC curve and ROC area\n",
    "fpr, tpr, _ = roc_curve(y_test, y_pred_proba)  # false positive rate and true positive rate\n",
    "roc_auc = roc_auc_score(y_test, y_pred_proba)\n",
    "\n",
    "#Save AUC values\n",
    "df = pd.DataFrame({\n",
    "    'AUC': roc_auc,\n",
    "    'FPR': fpr,\n",
    "    'TPR': tpr\n",
    "})\n",
    "df.to_csv('./CM1_KNN_HS_AUC.csv', index=False)\n",
    "\n",
    "# Plot\n",
    "plt.figure()\n",
    "lw = 2  # line width\n",
    "plt.plot(fpr, tpr, color='darkorange', lw=lw, label='ROC curve (area = %0.2f)' % roc_auc)\n",
    "plt.plot([0, 1], [0, 1], color='navy', lw=lw, linestyle='--')\n",
    "plt.xlim([0.0, 1.0])\n",
    "plt.ylim([0.0, 1.05])\n",
    "plt.xlabel('False Positive Rate')\n",
    "plt.ylabel('True Positive Rate')\n",
    "plt.title('CM1-KNN-HS')\n",
    "plt.legend(loc=\"lower right\")\n",
    "plt.show()"
   ]
  }
 ],
 "metadata": {
  "kernelspec": {
   "display_name": "Python 3 (ipykernel)",
   "language": "python",
   "name": "python3"
  },
  "language_info": {
   "codemirror_mode": {
    "name": "ipython",
    "version": 3
   },
   "file_extension": ".py",
   "mimetype": "text/x-python",
   "name": "python",
   "nbconvert_exporter": "python",
   "pygments_lexer": "ipython3",
   "version": "3.9.12"
  }
 },
 "nbformat": 4,
 "nbformat_minor": 5
}
