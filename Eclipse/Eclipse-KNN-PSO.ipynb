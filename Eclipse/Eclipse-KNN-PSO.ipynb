{
 "cells": [
  {
   "cell_type": "code",
   "execution_count": 1,
   "id": "2f155644",
   "metadata": {},
   "outputs": [
    {
     "name": "stdout",
     "output_type": "stream",
     "text": [
      "Requirement already satisfied: deap in c:\\users\\user\\appdata\\local\\programs\\python\\python311\\lib\\site-packages (1.4.1)\n",
      "Requirement already satisfied: numpy in c:\\users\\user\\appdata\\local\\programs\\python\\python311\\lib\\site-packages (from deap) (1.26.0)\n"
     ]
    },
    {
     "name": "stderr",
     "output_type": "stream",
     "text": [
      "\n",
      "[notice] A new release of pip is available: 23.3.1 -> 24.3.1\n",
      "[notice] To update, run: python.exe -m pip install --upgrade pip\n"
     ]
    }
   ],
   "source": [
    "import sys\n",
    "!{sys.executable} -m pip install deap"
   ]
  },
  {
   "cell_type": "code",
   "execution_count": 2,
   "id": "cc4d3488",
   "metadata": {},
   "outputs": [
    {
     "name": "stdout",
     "output_type": "stream",
     "text": [
      "Requirement already satisfied: pyswarms in c:\\users\\user\\appdata\\local\\programs\\python\\python311\\lib\\site-packages (1.3.0)\n",
      "Requirement already satisfied: scipy in c:\\users\\user\\appdata\\local\\programs\\python\\python311\\lib\\site-packages (from pyswarms) (1.11.2)\n",
      "Requirement already satisfied: numpy in c:\\users\\user\\appdata\\local\\programs\\python\\python311\\lib\\site-packages (from pyswarms) (1.26.0)\n",
      "Requirement already satisfied: matplotlib>=1.3.1 in c:\\users\\user\\appdata\\local\\programs\\python\\python311\\lib\\site-packages (from pyswarms) (3.8.0)\n",
      "Requirement already satisfied: attrs in c:\\users\\user\\appdata\\local\\programs\\python\\python311\\lib\\site-packages (from pyswarms) (23.1.0)\n",
      "Requirement already satisfied: tqdm in c:\\users\\user\\appdata\\local\\programs\\python\\python311\\lib\\site-packages (from pyswarms) (4.66.1)\n",
      "Requirement already satisfied: future in c:\\users\\user\\appdata\\local\\programs\\python\\python311\\lib\\site-packages (from pyswarms) (0.18.3)\n",
      "Requirement already satisfied: pyyaml in c:\\users\\user\\appdata\\local\\programs\\python\\python311\\lib\\site-packages (from pyswarms) (6.0.1)\n",
      "Requirement already satisfied: contourpy>=1.0.1 in c:\\users\\user\\appdata\\local\\programs\\python\\python311\\lib\\site-packages (from matplotlib>=1.3.1->pyswarms) (1.1.1)\n",
      "Requirement already satisfied: cycler>=0.10 in c:\\users\\user\\appdata\\local\\programs\\python\\python311\\lib\\site-packages (from matplotlib>=1.3.1->pyswarms) (0.12.0)\n",
      "Requirement already satisfied: fonttools>=4.22.0 in c:\\users\\user\\appdata\\local\\programs\\python\\python311\\lib\\site-packages (from matplotlib>=1.3.1->pyswarms) (4.43.0)\n",
      "Requirement already satisfied: kiwisolver>=1.0.1 in c:\\users\\user\\appdata\\local\\programs\\python\\python311\\lib\\site-packages (from matplotlib>=1.3.1->pyswarms) (1.4.5)\n",
      "Requirement already satisfied: packaging>=20.0 in c:\\users\\user\\appdata\\local\\programs\\python\\python311\\lib\\site-packages (from matplotlib>=1.3.1->pyswarms) (23.1)\n",
      "Requirement already satisfied: pillow>=6.2.0 in c:\\users\\user\\appdata\\local\\programs\\python\\python311\\lib\\site-packages (from matplotlib>=1.3.1->pyswarms) (10.0.1)\n",
      "Requirement already satisfied: pyparsing>=2.3.1 in c:\\users\\user\\appdata\\local\\programs\\python\\python311\\lib\\site-packages (from matplotlib>=1.3.1->pyswarms) (3.1.1)\n",
      "Requirement already satisfied: python-dateutil>=2.7 in c:\\users\\user\\appdata\\local\\programs\\python\\python311\\lib\\site-packages (from matplotlib>=1.3.1->pyswarms) (2.8.2)\n",
      "Requirement already satisfied: colorama in c:\\users\\user\\appdata\\local\\programs\\python\\python311\\lib\\site-packages (from tqdm->pyswarms) (0.4.6)\n",
      "Requirement already satisfied: six>=1.5 in c:\\users\\user\\appdata\\local\\programs\\python\\python311\\lib\\site-packages (from python-dateutil>=2.7->matplotlib>=1.3.1->pyswarms) (1.16.0)\n"
     ]
    },
    {
     "name": "stderr",
     "output_type": "stream",
     "text": [
      "\n",
      "[notice] A new release of pip is available: 23.3.1 -> 24.3.1\n",
      "[notice] To update, run: python.exe -m pip install --upgrade pip\n"
     ]
    }
   ],
   "source": [
    "import sys\n",
    "!{sys.executable} -m pip install pyswarms"
   ]
  },
  {
   "cell_type": "code",
   "execution_count": 3,
   "id": "80690e01",
   "metadata": {},
   "outputs": [],
   "source": [
    "# Import necessary libraries\n",
    "import pandas as pd\n",
    "import numpy as np\n",
    "import pyswarms as ps\n",
    "from sklearn.model_selection import train_test_split, cross_val_score\n",
    "from sklearn.neighbors import KNeighborsClassifier\n",
    "from sklearn.metrics import classification_report, accuracy_score\n",
    "from deap import base, creator, tools, algorithms\n",
    "from pyswarms.utils.functions import single_obj as fx\n",
    "import random\n",
    "\n",
    "# Load dataset from CSV\n",
    "data = pd.read_csv('./eclipse.csv')\n",
    "\n",
    "# Convert 'post' column to binary\n",
    "data['post_binary'] = data['post'].apply(lambda x: 1 if x > 0 else 0)\n",
    "\n",
    "# Prepare the feature matrix (X) and the target vector (y)\n",
    "X = data.drop(columns=['plugin', 'filename', 'pre', 'post', 'post_binary'])  # Dropping non-numeric and target columns\n",
    "y = data['post_binary']\n",
    "\n",
    "# Split dataset into training and testing sets\n",
    "X_train, X_test, y_train, y_test = train_test_split(X, y, test_size=0.3, random_state=42)\n"
   ]
  },
  {
   "cell_type": "code",
   "execution_count": 4,
   "id": "be5fcd78",
   "metadata": {},
   "outputs": [],
   "source": [
    "# Define the evaluation function for PSO\n",
    "def evalFeatureSelection(x):\n",
    "    n_particles = x.shape[0]\n",
    "    fitness = []\n",
    "\n",
    "    for i in range(n_particles):\n",
    "        individual = [1 if val > 0.5 else 0 for val in x[i]]\n",
    "        selected_features = [i for i, val in enumerate(individual) if val == 1]\n",
    "\n",
    "        if len(selected_features) == 0:\n",
    "            fitness.append(0)\n",
    "            continue\n",
    "        \n",
    "        X_train_selected = X_train.iloc[:, selected_features]\n",
    "        X_test_selected = X_test.iloc[:, selected_features]\n",
    "\n",
    "        clf = KNeighborsClassifier()\n",
    "        clf.fit(X_train_selected, y_train)\n",
    "        y_pred = clf.predict(X_test_selected)\n",
    "        accuracy = accuracy_score(y_test, y_pred)\n",
    "        fitness.append(accuracy)\n",
    "    \n",
    "    return np.array(fitness)"
   ]
  },
  {
   "cell_type": "code",
   "execution_count": 5,
   "id": "d4361907",
   "metadata": {},
   "outputs": [],
   "source": [
    "# Configure the PSO algorithm:\n",
    "n_features = X_train.shape[1]\n",
    "options = {'c1': 0.5, 'c2': 0.3, 'w': 0.9}\n",
    "bounds = (np.zeros(n_features), np.ones(n_features))\n",
    "optimizer = ps.single.GlobalBestPSO(n_particles=30, dimensions=n_features, options=options, bounds=bounds)\n"
   ]
  },
  {
   "cell_type": "code",
   "execution_count": 6,
   "id": "5909b507",
   "metadata": {},
   "outputs": [
    {
     "name": "stderr",
     "output_type": "stream",
     "text": [
      "2024-12-29 06:46:08,482 - pyswarms.single.global_best - INFO - Optimize for 20 iters with {'c1': 0.5, 'c2': 0.3, 'w': 0.9}\n",
      "pyswarms.single.global_best: 100%|███████████████████████████████████████████████████████████████|20/20, best_cost=0.82\n",
      "2024-12-29 06:47:40,454 - pyswarms.single.global_best - INFO - Optimization finished | best cost: 0.8200125865324103, best pos: [0.11225149 0.52646811 0.23518912 0.57286871 0.58990626 0.4731821\n",
      " 0.32925638 0.71051531 0.16463291 0.92809309 0.95814437 0.45324049\n",
      " 0.6261917  0.82107157 0.87811717 0.38336726 0.04370558 0.40596562\n",
      " 0.18733358 0.29094505 0.4347648  0.62378173 0.20477319 0.47212377\n",
      " 0.83620466 0.84668161 0.1977961  0.50937833 0.33225389 0.34122913\n",
      " 0.81679657 0.86102837 0.04278364 0.18331055 0.12850237 0.64855923\n",
      " 0.51765846 0.38991963 0.75381596 0.25375174 0.86740775 0.2942057\n",
      " 0.6220076  0.5418606  0.54870013 0.57923711 0.15710154 0.57955635\n",
      " 0.95192509 0.17971479 0.39757426 0.98205949 0.29349932 0.09556513\n",
      " 0.91915338 0.68758324 0.18226425 0.93899814 0.28761026 0.36239339\n",
      " 0.82876363 0.3911346  0.03344148 0.08046528 0.7929096  0.03976847\n",
      " 0.6203251  0.90945657 0.77786099 0.66004169 0.8294186  0.71018131\n",
      " 0.29989929 0.64451058 0.23890186 0.68337008 0.23280923 0.49039982\n",
      " 0.91643494 0.21554356 0.10450907 0.87913682 0.12896288 0.39099181\n",
      " 0.62012544 0.78649193 0.95644136 0.4124295  0.04579759 0.9844482\n",
      " 0.89023026 0.92206482 0.18371817 0.51314387 0.25715737 0.84860891\n",
      " 0.52090541 0.70865483 0.3064144  0.3619922  0.37459445 0.61092532\n",
      " 0.03926611 0.60100985 0.80138296 0.58374761 0.72283885 0.98570737\n",
      " 0.46578574 0.93889253 0.70183169 0.70186464 0.44985674 0.09589648\n",
      " 0.74449958 0.49677449 0.85031858 0.40685904 0.09242105 0.22786643\n",
      " 0.51723937 0.3274265  0.32227854 0.38955209 0.69695737 0.24386375\n",
      " 0.60854538 0.21928656 0.32700493 0.65717639 0.96679737 0.62343691\n",
      " 0.27623294 0.39320006 0.88700138 0.48936743 0.13106201 0.61515052\n",
      " 0.34906038 0.92113093 0.25935822 0.22452714 0.6555536  0.83405694\n",
      " 0.41184389 0.43937795 0.91317844 0.45212693 0.7602923  0.65798781\n",
      " 0.6368972  0.92737638 0.78699051 0.15783357 0.30664623 0.12190763\n",
      " 0.09631737 0.60198372 0.96933234 0.35820649 0.1609938  0.6959378\n",
      " 0.467233   0.024251   0.38752115 0.08528703 0.68149784 0.83034328\n",
      " 0.9134405  0.06570844 0.435237   0.98526909 0.62000364 0.27078071\n",
      " 0.66514521 0.14709667 0.01475934 0.48421024 0.54144633 0.18154109\n",
      " 0.5994521  0.10595858 0.82625369 0.08735964 0.82066583 0.1457629\n",
      " 0.06999227 0.65284701 0.44657243 0.24355833 0.03393696 0.47772733\n",
      " 0.08905412 0.03303448 0.14466018 0.53259079 0.26252103 0.13001085]\n"
     ]
    }
   ],
   "source": [
    "# Run the PSO algorithm for feature selection:\n",
    "cost, pos = optimizer.optimize(evalFeatureSelection, iters=20, verbose=True)"
   ]
  },
  {
   "cell_type": "code",
   "execution_count": 7,
   "id": "bc80ddc7",
   "metadata": {},
   "outputs": [
    {
     "name": "stdout",
     "output_type": "stream",
     "text": [
      "Number of selected features:  94\n"
     ]
    }
   ],
   "source": [
    "# Train and evaluate the Naive Bayes classifier using the best feature subset found:\n",
    "best_individual = [1 if val > 0.5 else 0 for val in pos]\n",
    "selected_features = [i for i, val in enumerate(best_individual) if val == 1]\n",
    "print(\"Number of selected features: \", len(selected_features))"
   ]
  },
  {
   "cell_type": "code",
   "execution_count": 8,
   "id": "00091382",
   "metadata": {},
   "outputs": [
    {
     "name": "stdout",
     "output_type": "stream",
     "text": [
      "Accuracy:  0.8200125865324103\n",
      "              precision    recall  f1-score   support\n",
      "\n",
      "           0       0.87      0.93      0.90      2690\n",
      "           1       0.35      0.20      0.26       488\n",
      "\n",
      "    accuracy                           0.82      3178\n",
      "   macro avg       0.61      0.57      0.58      3178\n",
      "weighted avg       0.79      0.82      0.80      3178\n",
      "\n"
     ]
    }
   ],
   "source": [
    "# Train the classifier\n",
    "X_train_selected = X_train.iloc[:, selected_features]\n",
    "X_test_selected = X_test.iloc[:, selected_features]\n",
    "clf = KNeighborsClassifier()\n",
    "clf.fit(X_train_selected, y_train)\n",
    "\n",
    "# Test the classifier\n",
    "y_pred = clf.predict(X_test_selected)\n",
    "print(\"Accuracy: \", accuracy_score(y_test, y_pred))\n",
    "print(classification_report(y_test, y_pred))"
   ]
  },
  {
   "cell_type": "code",
   "execution_count": 9,
   "id": "c8d0896d",
   "metadata": {},
   "outputs": [
    {
     "data": {
      "image/png": "[encoded data removed]",
      "text/plain": [
       "<Figure size 640x480 with 1 Axes>"
      ]
     },
     "metadata": {},
     "output_type": "display_data"
    }
   ],
   "source": [
    "import matplotlib.pyplot as plt\n",
    "from sklearn.metrics import roc_curve, roc_auc_score\n",
    "\n",
    "# probabilities for the positive outcome\n",
    "y_pred_proba = clf.predict_proba(X_test_selected)[:,1]\n",
    "# Compute ROC curve and ROC area\n",
    "fpr, tpr, _ = roc_curve(y_test, y_pred_proba)  # false positive rate and true positive rate\n",
    "roc_auc = roc_auc_score(y_test, y_pred_proba)\n",
    "\n",
    "#Save AUC values\n",
    "df = pd.DataFrame({\n",
    "    'AUC': roc_auc,\n",
    "    'FPR': fpr,\n",
    "    'TPR': tpr\n",
    "})\n",
    "df.to_csv('./AUC_Extracts/Eclipse/Eclipse_KNN_PSO.csv', index=False)\n",
    "\n",
    "plt.figure()\n",
    "lw = 2\n",
    "plt.plot(fpr, tpr, color='darkorange', lw=lw, label='ROC curve (area = %0.2f)' % roc_auc)\n",
    "plt.plot([0, 1], [0, 1], color='navy', lw=lw, linestyle='--')\n",
    "plt.xlim([0.0, 1.0])\n",
    "plt.ylim([0.0, 1.05])\n",
    "plt.xlabel('False Positive Rate')\n",
    "plt.ylabel('True Positive Rate')\n",
    "plt.title('Eclipse-KNN-PSO')\n",
    "plt.legend(loc=\"lower right\")\n",
    "plt.show()"
   ]
  }
 ],
 "metadata": {
  "kernelspec": {
   "display_name": "Python 3 (ipykernel)",
   "language": "python",
   "name": "python3"
  },
  "language_info": {
   "codemirror_mode": {
    "name": "ipython",
    "version": 3
   },
   "file_extension": ".py",
   "mimetype": "text/x-python",
   "name": "python",
   "nbconvert_exporter": "python",
   "pygments_lexer": "ipython3",
   "version": "3.11.5"
  }
 },
 "nbformat": 4,
 "nbformat_minor": 5
}
