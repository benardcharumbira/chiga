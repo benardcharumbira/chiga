{
 "cells": [
  {
   "cell_type": "code",
   "execution_count": 3,
   "id": "2f155644",
   "metadata": {},
   "outputs": [
    {
     "name": "stdout",
     "output_type": "stream",
     "text": [
      "Requirement already satisfied: deap in c:\\users\\user\\appdata\\local\\programs\\python\\python311\\lib\\site-packages (1.4.1)\n",
      "Requirement already satisfied: numpy in c:\\users\\user\\appdata\\local\\programs\\python\\python311\\lib\\site-packages (from deap) (1.26.0)\n"
     ]
    },
    {
     "name": "stderr",
     "output_type": "stream",
     "text": [
      "\n",
      "[notice] A new release of pip is available: 23.2.1 -> 23.3\n",
      "[notice] To update, run: python.exe -m pip install --upgrade pip\n"
     ]
    }
   ],
   "source": [
    "import sys\n",
    "!{sys.executable} -m pip install deap"
   ]
  },
  {
   "cell_type": "code",
   "execution_count": 4,
   "id": "cc4d3488",
   "metadata": {},
   "outputs": [
    {
     "name": "stdout",
     "output_type": "stream",
     "text": [
      "Requirement already satisfied: pyswarms in c:\\users\\user\\appdata\\local\\programs\\python\\python311\\lib\\site-packages (1.3.0)\n",
      "Requirement already satisfied: scipy in c:\\users\\user\\appdata\\local\\programs\\python\\python311\\lib\\site-packages (from pyswarms) (1.11.2)\n",
      "Requirement already satisfied: numpy in c:\\users\\user\\appdata\\local\\programs\\python\\python311\\lib\\site-packages (from pyswarms) (1.26.0)\n",
      "Requirement already satisfied: matplotlib>=1.3.1 in c:\\users\\user\\appdata\\local\\programs\\python\\python311\\lib\\site-packages (from pyswarms) (3.8.0)\n",
      "Requirement already satisfied: attrs in c:\\users\\user\\appdata\\local\\programs\\python\\python311\\lib\\site-packages (from pyswarms) (23.1.0)\n",
      "Requirement already satisfied: tqdm in c:\\users\\user\\appdata\\local\\programs\\python\\python311\\lib\\site-packages (from pyswarms) (4.66.1)\n",
      "Requirement already satisfied: future in c:\\users\\user\\appdata\\local\\programs\\python\\python311\\lib\\site-packages (from pyswarms) (0.18.3)\n",
      "Requirement already satisfied: pyyaml in c:\\users\\user\\appdata\\local\\programs\\python\\python311\\lib\\site-packages (from pyswarms) (6.0.1)\n",
      "Requirement already satisfied: contourpy>=1.0.1 in c:\\users\\user\\appdata\\local\\programs\\python\\python311\\lib\\site-packages (from matplotlib>=1.3.1->pyswarms) (1.1.1)\n",
      "Requirement already satisfied: cycler>=0.10 in c:\\users\\user\\appdata\\local\\programs\\python\\python311\\lib\\site-packages (from matplotlib>=1.3.1->pyswarms) (0.12.0)\n",
      "Requirement already satisfied: fonttools>=4.22.0 in c:\\users\\user\\appdata\\local\\programs\\python\\python311\\lib\\site-packages (from matplotlib>=1.3.1->pyswarms) (4.43.0)\n",
      "Requirement already satisfied: kiwisolver>=1.0.1 in c:\\users\\user\\appdata\\local\\programs\\python\\python311\\lib\\site-packages (from matplotlib>=1.3.1->pyswarms) (1.4.5)\n",
      "Requirement already satisfied: packaging>=20.0 in c:\\users\\user\\appdata\\local\\programs\\python\\python311\\lib\\site-packages (from matplotlib>=1.3.1->pyswarms) (23.1)\n",
      "Requirement already satisfied: pillow>=6.2.0 in c:\\users\\user\\appdata\\local\\programs\\python\\python311\\lib\\site-packages (from matplotlib>=1.3.1->pyswarms) (10.0.1)\n",
      "Requirement already satisfied: pyparsing>=2.3.1 in c:\\users\\user\\appdata\\local\\programs\\python\\python311\\lib\\site-packages (from matplotlib>=1.3.1->pyswarms) (3.1.1)\n",
      "Requirement already satisfied: python-dateutil>=2.7 in c:\\users\\user\\appdata\\local\\programs\\python\\python311\\lib\\site-packages (from matplotlib>=1.3.1->pyswarms) (2.8.2)\n",
      "Requirement already satisfied: colorama in c:\\users\\user\\appdata\\local\\programs\\python\\python311\\lib\\site-packages (from tqdm->pyswarms) (0.4.6)\n",
      "Requirement already satisfied: six>=1.5 in c:\\users\\user\\appdata\\local\\programs\\python\\python311\\lib\\site-packages (from python-dateutil>=2.7->matplotlib>=1.3.1->pyswarms) (1.16.0)\n"
     ]
    },
    {
     "name": "stderr",
     "output_type": "stream",
     "text": [
      "\n",
      "[notice] A new release of pip is available: 23.2.1 -> 23.3\n",
      "[notice] To update, run: python.exe -m pip install --upgrade pip\n"
     ]
    }
   ],
   "source": [
    "import sys\n",
    "!{sys.executable} -m pip install pyswarms"
   ]
  },
  {
   "cell_type": "code",
   "execution_count": 5,
   "id": "80690e01",
   "metadata": {},
   "outputs": [],
   "source": [
    "# Import necessary libraries\n",
    "import pandas as pd\n",
    "import numpy as np\n",
    "import pyswarms as ps\n",
    "from sklearn.model_selection import train_test_split, cross_val_score\n",
    "from sklearn.naive_bayes import GaussianNB\n",
    "from sklearn.metrics import classification_report, accuracy_score\n",
    "from deap import base, creator, tools, algorithms\n",
    "from pyswarms.utils.functions import single_obj as fx\n",
    "import random\n",
    "\n",
    "# Load dataset (using the JM1 dataset as an example)\n",
    "data = pd.read_csv('./kc1.csv')\n",
    "\n",
    "# Drop any missing values\n",
    "data = data.dropna()\n",
    "\n",
    "# Separate features and target\n",
    "X = data.iloc[:, :-1]\n",
    "y = data.iloc[:, -1]\n",
    "\n",
    "\n",
    "# Split dataset into training and testing sets\n",
    "X_train, X_test, y_train, y_test = train_test_split(X, y, test_size=0.3, random_state=42)\n"
   ]
  },
  {
   "cell_type": "code",
   "execution_count": 6,
   "id": "be5fcd78",
   "metadata": {},
   "outputs": [],
   "source": [
    "# Define the evaluation function for PSO\n",
    "def evalFeatureSelection(x):\n",
    "    n_particles = x.shape[0]\n",
    "    fitness = []\n",
    "\n",
    "    for i in range(n_particles):\n",
    "        individual = [1 if val > 0.5 else 0 for val in x[i]]\n",
    "        selected_features = [i for i, val in enumerate(individual) if val == 1]\n",
    "\n",
    "        if len(selected_features) == 0:\n",
    "            fitness.append(0)\n",
    "            continue\n",
    "        \n",
    "        X_train_selected = X_train.iloc[:, selected_features]\n",
    "        X_test_selected = X_test.iloc[:, selected_features]\n",
    "\n",
    "        clf = GaussianNB()\n",
    "        clf.fit(X_train_selected, y_train)\n",
    "        y_pred = clf.predict(X_test_selected)\n",
    "        accuracy = accuracy_score(y_test, y_pred)\n",
    "        fitness.append(accuracy)\n",
    "    \n",
    "    return np.array(fitness)"
   ]
  },
  {
   "cell_type": "code",
   "execution_count": 7,
   "id": "d4361907",
   "metadata": {},
   "outputs": [],
   "source": [
    "# Configure the PSO algorithm:\n",
    "n_features = X_train.shape[1]\n",
    "options = {'c1': 0.5, 'c2': 0.3, 'w': 0.9}\n",
    "bounds = (np.zeros(n_features), np.ones(n_features))\n",
    "optimizer = ps.single.GlobalBestPSO(n_particles=30, dimensions=n_features, options=options, bounds=bounds)\n"
   ]
  },
  {
   "cell_type": "code",
   "execution_count": 8,
   "id": "5909b507",
   "metadata": {},
   "outputs": [
    {
     "name": "stderr",
     "output_type": "stream",
     "text": [
      "2023-10-23 22:39:25,298 - pyswarms.single.global_best - INFO - Optimize for 20 iters with {'c1': 0.5, 'c2': 0.3, 'w': 0.9}\n",
      "pyswarms.single.global_best: 100%|██████████████████████████████████████████████████████████████|20/20, best_cost=0.791\n",
      "2023-10-23 22:39:27,001 - pyswarms.single.global_best - INFO - Optimization finished | best cost: 0.7914691943127962, best pos: [0.93182358 0.01345577 0.65753637 0.13908689 0.56153311 0.77382978\n",
      " 0.990469   0.39449163 0.81660501 0.03981954 0.42001395 0.46255349\n",
      " 0.30887296 0.98950498 0.85479786 0.9534023  0.78782916 0.61139507\n",
      " 0.80906465 0.43372885 0.37858779]\n"
     ]
    }
   ],
   "source": [
    "# Run the PSO algorithm for feature selection:\n",
    "cost, pos = optimizer.optimize(evalFeatureSelection, iters=20, verbose=True)"
   ]
  },
  {
   "cell_type": "code",
   "execution_count": 9,
   "id": "bc80ddc7",
   "metadata": {},
   "outputs": [
    {
     "name": "stdout",
     "output_type": "stream",
     "text": [
      "Number of selected features:  12\n"
     ]
    }
   ],
   "source": [
    "# Train and evaluate the Naive Bayes classifier using the best feature subset found:\n",
    "best_individual = [1 if val > 0.5 else 0 for val in pos]\n",
    "selected_features = [i for i, val in enumerate(best_individual) if val == 1]\n",
    "print(\"Number of selected features: \", len(selected_features))"
   ]
  },
  {
   "cell_type": "code",
   "execution_count": 10,
   "id": "00091382",
   "metadata": {},
   "outputs": [
    {
     "name": "stdout",
     "output_type": "stream",
     "text": [
      "Accuracy:  0.7914691943127962\n",
      "              precision    recall  f1-score   support\n",
      "\n",
      "       False       0.88      0.87      0.88       533\n",
      "        True       0.34      0.35      0.35       100\n",
      "\n",
      "    accuracy                           0.79       633\n",
      "   macro avg       0.61      0.61      0.61       633\n",
      "weighted avg       0.79      0.79      0.79       633\n",
      "\n"
     ]
    }
   ],
   "source": [
    "# Train the classifier\n",
    "X_train_selected = X_train.iloc[:, selected_features]\n",
    "X_test_selected = X_test.iloc[:, selected_features]\n",
    "clf = GaussianNB()\n",
    "clf.fit(X_train_selected, y_train)\n",
    "\n",
    "# Test the classifier\n",
    "y_pred = clf.predict(X_test_selected)\n",
    "print(\"Accuracy: \", accuracy_score(y_test, y_pred))\n",
    "print(classification_report(y_test, y_pred))"
   ]
  },
  {
   "cell_type": "code",
   "execution_count": 11,
   "id": "5a5ba241",
   "metadata": {},
   "outputs": [
    {
     "data": {
      "image/png": "[encoded data removed]",
      "text/plain": [
       "<Figure size 640x480 with 1 Axes>"
      ]
     },
     "metadata": {},
     "output_type": "display_data"
    }
   ],
   "source": [
    "import matplotlib.pyplot as plt\n",
    "from sklearn.metrics import roc_curve, roc_auc_score\n",
    "\n",
    "# probabilities for the positive outcome\n",
    "y_pred_proba = clf.predict_proba(X_test_selected)[:,1]\n",
    "# Compute ROC curve and ROC area\n",
    "fpr, tpr, _ = roc_curve(y_test, y_pred_proba)  # false positive rate and true positive rate\n",
    "roc_auc = roc_auc_score(y_test, y_pred_proba)\n",
    "\n",
    "#Save AUC values\n",
    "df = pd.DataFrame({\n",
    "    'AUC': roc_auc,\n",
    "    'FPR': fpr,\n",
    "    'TPR': tpr\n",
    "})\n",
    "df.to_csv('./AUC_Extracts/KC1/KC1_NB_PSO.csv', index=False)\n",
    "\n",
    "# Plot\n",
    "plt.figure()\n",
    "lw = 2  # line width\n",
    "plt.plot(fpr, tpr, color='darkorange', lw=lw, label='ROC curve (area = %0.2f)' % roc_auc)\n",
    "plt.plot([0, 1], [0, 1], color='navy', lw=lw, linestyle='--')  # random predictions curve\n",
    "plt.xlim([0.0, 1.0])\n",
    "plt.ylim([0.0, 1.05])\n",
    "plt.xlabel('False Positive Rate')\n",
    "plt.ylabel('True Positive Rate')\n",
    "plt.title('Receiver Operating Characteristic example')\n",
    "plt.legend(loc=\"lower right\")\n",
    "plt.show()"
   ]
  }
 ],
 "metadata": {
  "kernelspec": {
   "display_name": "Python 3 (ipykernel)",
   "language": "python",
   "name": "python3"
  },
  "language_info": {
   "codemirror_mode": {
    "name": "ipython",
    "version": 3
   },
   "file_extension": ".py",
   "mimetype": "text/x-python",
   "name": "python",
   "nbconvert_exporter": "python",
   "pygments_lexer": "ipython3",
   "version": "3.11.5"
  }
 },
 "nbformat": 4,
 "nbformat_minor": 5
}
