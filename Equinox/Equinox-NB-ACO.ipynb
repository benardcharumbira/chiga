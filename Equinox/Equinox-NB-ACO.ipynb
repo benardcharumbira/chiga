{
 "cells": [
  {
   "cell_type": "code",
   "execution_count": 7,
   "id": "2f155644",
   "metadata": {},
   "outputs": [
    {
     "name": "stdout",
     "output_type": "stream",
     "text": [
      "Requirement already satisfied: deap in c:\\users\\user\\appdata\\local\\programs\\python\\python311\\lib\\site-packages (1.4.1)\n",
      "Requirement already satisfied: numpy in c:\\users\\user\\appdata\\local\\programs\\python\\python311\\lib\\site-packages (from deap) (1.26.0)\n"
     ]
    }
   ],
   "source": [
    "import sys\n",
    "!{sys.executable} -m pip install deap"
   ]
  },
  {
   "cell_type": "code",
   "execution_count": 8,
   "id": "80690e01",
   "metadata": {},
   "outputs": [],
   "source": [
    "import pandas as pd\n",
    "import numpy as np\n",
    "from sklearn.model_selection import train_test_split\n",
    "from sklearn.naive_bayes import GaussianNB\n",
    "from sklearn.metrics import classification_report, accuracy_score, roc_curve, roc_auc_score\n",
    "import matplotlib.pyplot as plt\n",
    "\n",
    "from deap import base, creator, tools, algorithms\n",
    "import random\n",
    "\n",
    "# Load the data\n",
    "data = pd.read_csv('equinox.csv')\n",
    "\n",
    "# Convert 'bugs' column to binary (assuming 0 means no bug, and >0 means there's a bug)\n",
    "data['bugs_binary'] = data['bugs'].apply(lambda x: 1 if x > 0 else 0)\n",
    "\n",
    "# Pre-process the data\n",
    "columns_to_drop = ['classname', 'bugs', 'nonTrivialBugs', 'majorBugs', 'criticalBugs', 'highPriorityBugs', 'bugs_binary']\n",
    "X = data.drop(columns=columns_to_drop)\n",
    "y = data['bugs_binary']\n",
    "\n",
    "# Split the data into training and testing sets\n",
    "X_train, X_test, y_train, y_test = train_test_split(X, y, test_size=0.2, random_state=42)\n"
   ]
  },
  {
   "cell_type": "code",
   "execution_count": 9,
   "id": "ad6d1083-1154-4f6d-8874-efe39f702252",
   "metadata": {},
   "outputs": [],
   "source": [
    "# There is no built-in package for ACO, here is the implementation:\n",
    "class ACO:\n",
    "    def __init__(self, n_features, n_ants, n_iterations, evaporation_rate, alpha, beta, seed=None):\n",
    "        self.n_features = n_features\n",
    "        self.n_ants = n_ants\n",
    "        self.n_iterations = n_iterations\n",
    "        self.evaporation_rate = evaporation_rate\n",
    "        self.alpha = alpha\n",
    "        self.beta = beta\n",
    "        self.pheromone = np.ones(n_features) / n_features\n",
    "        if seed:\n",
    "            random.seed(seed)\n",
    "            np.random.seed(seed)\n",
    "\n",
    "    def _select_features(self, feature_prob):\n",
    "        features = []\n",
    "        for i, prob in enumerate(feature_prob):\n",
    "            if random.random() < prob:\n",
    "                features.append(i)\n",
    "        return features\n",
    "\n",
    "    def optimize(self, fitness_function, y_train):\n",
    "        best_fitness = -1\n",
    "        best_features = None\n",
    "\n",
    "        for iteration in range(self.n_iterations):\n",
    "            solutions = []\n",
    "            fitnesses = []\n",
    "\n",
    "            for ant in range(self.n_ants):\n",
    "                feature_prob = self.pheromone**self.alpha * ((1.0 / self.pheromone)**self.beta)\n",
    "                feature_prob /= np.sum(feature_prob)\n",
    "                selected_features = self._select_features(feature_prob)\n",
    "                fitness = fitness_function(selected_features, y_train)\n",
    "\n",
    "                if fitness > best_fitness:\n",
    "                    best_fitness = fitness\n",
    "                    best_features = selected_features\n",
    "\n",
    "                solutions.append(selected_features)\n",
    "                fitnesses.append(fitness)\n",
    "\n",
    "            for i, solution in enumerate(solutions):\n",
    "                for feature in solution:\n",
    "                    self.pheromone[feature] += fitnesses[i]\n",
    "\n",
    "            self.pheromone *= (1 - self.evaporation_rate)\n",
    "\n",
    "        return best_features\n"
   ]
  },
  {
   "cell_type": "code",
   "execution_count": 10,
   "id": "8f489740-6a4a-401d-a3fd-673ceafcb1d5",
   "metadata": {},
   "outputs": [],
   "source": [
    "\n",
    "def evalFeatureSelection(selected_features, y_train):\n",
    "    \n",
    "    if len(selected_features) == 0:\n",
    "        return 0\n",
    "\n",
    "    X_train_selected = X_train.iloc[:, selected_features]\n",
    "    X_test_selected = X_test.iloc[:, selected_features]\n",
    "\n",
    "    # Drop rows with NaN values in the selected training set and adjust the y_train accordingly\n",
    "    X_train_selected = X_train_selected.dropna()\n",
    "    y_train = y_train[X_train_selected.index]\n",
    "\n",
    "    # Only fit the classifier when there are samples available\n",
    "    if len(X_train_selected) > 0 and len(y_train) > 0:\n",
    "        clf = GaussianNB()\n",
    "        clf.fit(X_train_selected, y_train)\n",
    "        y_pred = clf.predict(X_test_selected)\n",
    "        accuracy = accuracy_score(y_test, y_pred)\n",
    "        return accuracy\n",
    "    else:\n",
    "        # You can decide how to handle this case. For instance, return a low fitness value\n",
    "        return 0.0\n"
   ]
  },
  {
   "cell_type": "code",
   "execution_count": 11,
   "id": "c3ed0849-6f87-4491-9fab-c01309550fc3",
   "metadata": {},
   "outputs": [
    {
     "name": "stdout",
     "output_type": "stream",
     "text": [
      "Accuracy:  0.8307692307692308\n",
      "              precision    recall  f1-score   support\n",
      "\n",
      "           0       0.78      1.00      0.88        39\n",
      "           1       1.00      0.58      0.73        26\n",
      "\n",
      "    accuracy                           0.83        65\n",
      "   macro avg       0.89      0.79      0.80        65\n",
      "weighted avg       0.87      0.83      0.82        65\n",
      "\n"
     ]
    }
   ],
   "source": [
    "# Feature selection using ACO\n",
    "n_features = X_train.shape[1]\n",
    "n_ants = 30\n",
    "n_iterations = 20\n",
    "\n",
    "aco = ACO(n_features, n_ants, n_iterations, evaporation_rate=0.1, alpha=1, beta=1, seed=42)\n",
    "selected_features = aco.optimize(evalFeatureSelection, y_train)\n",
    "\n",
    "# Train the Naive Bayes classifier with selected features\n",
    "X_train_selected = X_train.iloc[:, selected_features]\n",
    "X_test_selected = X_test.iloc[:, selected_features]\n",
    "\n",
    "clf = GaussianNB()\n",
    "clf.fit(X_train_selected, y_train)\n",
    "\n",
    "# Test the classifier\n",
    "y_pred = clf.predict(X_test_selected)\n",
    "y_pred_proba = clf.predict_proba(X_test_selected)[:,1]\n",
    "print(\"Accuracy: \", accuracy_score(y_test, y_pred))\n",
    "print(classification_report(y_test, y_pred))\n",
    "\n",
    "# Compute ROC curve and ROC area\n",
    "fpr, tpr, _ = roc_curve(y_test, y_pred_proba)\n",
    "roc_auc = roc_auc_score(y_test, y_pred_proba)\n"
   ]
  },
  {
   "cell_type": "code",
   "execution_count": 12,
   "id": "592a65b2-a663-4b9d-adc1-28daaf1f59d4",
   "metadata": {},
   "outputs": [
    {
     "data": {
      "image/png": "[encoded data removed]",
      "text/plain": [
       "<Figure size 640x480 with 1 Axes>"
      ]
     },
     "metadata": {},
     "output_type": "display_data"
    }
   ],
   "source": [
    "#Save AUC values\n",
    "df = pd.DataFrame({\n",
    "    'FPR': fpr,\n",
    "    'TPR': tpr,\n",
    "    'AUC': roc_auc\n",
    "})\n",
    "df.to_csv('./AUC_Extracts/Equinox/Equinox_NB_ACO.csv', index=False)\n",
    "\n",
    "# Plot the ROC curve\n",
    "plt.figure()\n",
    "lw = 2\n",
    "plt.plot(fpr, tpr, color='darkorange', lw=lw, label='ROC curve (area = %0.2f)' % roc_auc)\n",
    "plt.plot([0, 1], [0, 1], color='navy', lw=lw, linestyle='--')\n",
    "plt.xlim([0.0, 1.0])\n",
    "plt.ylim([0.0, 1.05])\n",
    "plt.xlabel('False Positive Rate')\n",
    "plt.ylabel('True Positive Rate')\n",
    "plt.title('Equinox-NB-ACO')\n",
    "plt.legend(loc=\"lower right\")\n",
    "plt.show()"
   ]
  }
 ],
 "metadata": {
  "kernelspec": {
   "display_name": "Python 3 (ipykernel)",
   "language": "python",
   "name": "python3"
  },
  "language_info": {
   "codemirror_mode": {
    "name": "ipython",
    "version": 3
   },
   "file_extension": ".py",
   "mimetype": "text/x-python",
   "name": "python",
   "nbconvert_exporter": "python",
   "pygments_lexer": "ipython3",
   "version": "3.11.5"
  }
 },
 "nbformat": 4,
 "nbformat_minor": 5
}
