{
 "cells": [
  {
   "cell_type": "code",
   "execution_count": 1,
   "id": "2f155644",
   "metadata": {},
   "outputs": [
    {
     "name": "stdout",
     "output_type": "stream",
     "text": [
      "Requirement already satisfied: deap in /Users/benardcharumbira/opt/anaconda3/lib/python3.9/site-packages (1.3.3)\n",
      "Requirement already satisfied: numpy in /Users/benardcharumbira/opt/anaconda3/lib/python3.9/site-packages (from deap) (1.21.5)\n"
     ]
    }
   ],
   "source": [
    "import sys\n",
    "!{sys.executable} -m pip install deap"
   ]
  },
  {
   "cell_type": "code",
   "execution_count": 2,
   "id": "80690e01",
   "metadata": {},
   "outputs": [],
   "source": [
    "# Import necessary libraries\n",
    "import pandas as pd\n",
    "import numpy as np\n",
    "from sklearn.model_selection import train_test_split, cross_val_score\n",
    "from sklearn.svm import SVC\n",
    "from sklearn.metrics import classification_report, accuracy_score\n",
    "from deap import base, creator, tools, algorithms\n",
    "import random\n",
    "\n",
    "# Load dataset (using the JM1 dataset as an example)\n",
    "data = pd.read_csv('./cm1.csv')\n",
    "\n",
    "# Drop any missing values\n",
    "data = data.dropna()\n",
    "\n",
    "# Separate features and target\n",
    "X = data.iloc[:, :-1]\n",
    "y = data.iloc[:, -1]\n",
    "\n",
    "\n",
    "# Split dataset into training and testing sets\n",
    "X_train, X_test, y_train, y_test = train_test_split(X, y, test_size=0.3, random_state=42)\n"
   ]
  },
  {
   "cell_type": "code",
   "execution_count": 3,
   "id": "be5fcd78",
   "metadata": {},
   "outputs": [],
   "source": [
    "# There is no built in package for ACO, here is the implementation:\n",
    "class ACO:\n",
    "    def __init__(self, n_features, n_ants, n_iterations, evaporation_rate, alpha, beta, seed=None):\n",
    "        self.n_features = n_features\n",
    "        self.n_ants = n_ants\n",
    "        self.n_iterations = n_iterations\n",
    "        self.evaporation_rate = evaporation_rate\n",
    "        self.alpha = alpha\n",
    "        self.beta = beta\n",
    "        self.pheromone = np.ones(n_features) / n_features\n",
    "        if seed:\n",
    "            random.seed(seed)\n",
    "            np.random.seed(seed)\n",
    "\n",
    "    def _select_features(self, feature_prob):\n",
    "        features = []\n",
    "        for i, prob in enumerate(feature_prob):\n",
    "            if random.random() < prob:\n",
    "                features.append(i)\n",
    "        return features\n",
    "\n",
    "    def optimize(self, fitness_function):\n",
    "        best_fitness = -1\n",
    "        best_features = None\n",
    "\n",
    "        for iteration in range(self.n_iterations):\n",
    "            solutions = []\n",
    "            fitnesses = []\n",
    "\n",
    "            for ant in range(self.n_ants):\n",
    "                feature_prob = self.pheromone**self.alpha * ((1.0 / self.pheromone)**self.beta)\n",
    "                feature_prob /= np.sum(feature_prob)\n",
    "                selected_features = self._select_features(feature_prob)\n",
    "                fitness = fitness_function(selected_features)\n",
    "\n",
    "                if fitness > best_fitness:\n",
    "                    best_fitness = fitness\n",
    "                    best_features = selected_features\n",
    "\n",
    "                solutions.append(selected_features)\n",
    "                fitnesses.append(fitness)\n",
    "\n",
    "            for i, solution in enumerate(solutions):\n",
    "                for feature in solution:\n",
    "                    self.pheromone[feature] += fitnesses[i]\n",
    "\n",
    "            self.pheromone *= (1 - self.evaporation_rate)\n",
    "\n",
    "        return best_features\n"
   ]
  },
  {
   "cell_type": "code",
   "execution_count": 4,
   "id": "437a4543",
   "metadata": {},
   "outputs": [],
   "source": [
    "def evalFeatureSelection(selected_features):\n",
    "    if len(selected_features) == 0:\n",
    "        return 0\n",
    "\n",
    "    X_train_selected = X_train.iloc[:, selected_features]\n",
    "    X_test_selected = X_test.iloc[:, selected_features]\n",
    "\n",
    "    clf = SVC()\n",
    "    clf.fit(X_train_selected, y_train)\n",
    "    y_pred = clf.predict(X_test_selected)\n",
    "    accuracy = accuracy_score(y_test, y_pred)\n",
    "    \n",
    "    return accuracy"
   ]
  },
  {
   "cell_type": "code",
   "execution_count": 5,
   "id": "d4361907",
   "metadata": {},
   "outputs": [],
   "source": [
    "# Select features with ACO:\n",
    "n_features = X_train.shape[1]\n",
    "n_ants = 30\n",
    "n_iterations = 20\n",
    "\n",
    "aco = ACO(n_features, n_ants, n_iterations, evaporation_rate=0.1, alpha=1, beta=1, seed=42)\n",
    "selected_features = aco.optimize(evalFeatureSelection)"
   ]
  },
  {
   "cell_type": "code",
   "execution_count": 6,
   "id": "bc80ddc7",
   "metadata": {},
   "outputs": [
    {
     "name": "stdout",
     "output_type": "stream",
     "text": [
      "Number of selected features:  4\n"
     ]
    }
   ],
   "source": [
    "print(\"Number of selected features: \", len(selected_features))"
   ]
  },
  {
   "cell_type": "code",
   "execution_count": 7,
   "id": "00091382",
   "metadata": {},
   "outputs": [
    {
     "name": "stdout",
     "output_type": "stream",
     "text": [
      "Accuracy:  0.8933333333333333\n",
      "              precision    recall  f1-score   support\n",
      "\n",
      "       False       0.89      1.00      0.94       134\n",
      "        True       0.00      0.00      0.00        16\n",
      "\n",
      "    accuracy                           0.89       150\n",
      "   macro avg       0.45      0.50      0.47       150\n",
      "weighted avg       0.80      0.89      0.84       150\n",
      "\n"
     ]
    },
    {
     "name": "stderr",
     "output_type": "stream",
     "text": [
      "/Users/benardcharumbira/opt/anaconda3/lib/python3.9/site-packages/sklearn/metrics/_classification.py:1318: UndefinedMetricWarning: Precision and F-score are ill-defined and being set to 0.0 in labels with no predicted samples. Use `zero_division` parameter to control this behavior.\n",
      "  _warn_prf(average, modifier, msg_start, len(result))\n",
      "/Users/benardcharumbira/opt/anaconda3/lib/python3.9/site-packages/sklearn/metrics/_classification.py:1318: UndefinedMetricWarning: Precision and F-score are ill-defined and being set to 0.0 in labels with no predicted samples. Use `zero_division` parameter to control this behavior.\n",
      "  _warn_prf(average, modifier, msg_start, len(result))\n",
      "/Users/benardcharumbira/opt/anaconda3/lib/python3.9/site-packages/sklearn/metrics/_classification.py:1318: UndefinedMetricWarning: Precision and F-score are ill-defined and being set to 0.0 in labels with no predicted samples. Use `zero_division` parameter to control this behavior.\n",
      "  _warn_prf(average, modifier, msg_start, len(result))\n"
     ]
    }
   ],
   "source": [
    "# Train the classifier\n",
    "X_train_selected = X_train.iloc[:, selected_features]\n",
    "X_test_selected = X_test.iloc[:, selected_features]\n",
    "clf = SVC(probability=True)\n",
    "clf.fit(X_train_selected, y_train)\n",
    "\n",
    "# Test the classifier\n",
    "y_pred = clf.predict(X_test_selected)\n",
    "print(\"Accuracy: \", accuracy_score(y_test, y_pred))\n",
    "print(classification_report(y_test, y_pred))"
   ]
  },
  {
   "cell_type": "code",
   "execution_count": 8,
   "id": "c23ec833",
   "metadata": {},
   "outputs": [
    {
     "data": {
      "image/png": "[encoded data removed]",
      "text/plain": [
       "<Figure size 432x288 with 1 Axes>"
      ]
     },
     "metadata": {
      "needs_background": "light"
     },
     "output_type": "display_data"
    }
   ],
   "source": [
    "import matplotlib.pyplot as plt\n",
    "from sklearn.metrics import roc_curve, roc_auc_score\n",
    "\n",
    "# probabilities for the positive outcome\n",
    "y_pred_proba = clf.predict_proba(X_test_selected)[:,1]\n",
    "# Compute ROC curve and ROC area\n",
    "fpr, tpr, _ = roc_curve(y_test, y_pred_proba)  # false positive rate and true positive rate\n",
    "roc_auc = roc_auc_score(y_test, y_pred_proba)\n",
    "\n",
    "df = pd.DataFrame({\n",
    "    'FPR': fpr,\n",
    "    'TPR': tpr,\n",
    "    'AUC': roc_auc\n",
    "})\n",
    "df.to_csv('./AUC_Extracts/CM1/CM1_SVM_ACO.csv', index=False)\n",
    "\n",
    "# Plot\n",
    "plt.figure()\n",
    "lw = 2  # line width\n",
    "plt.plot(fpr, tpr, color='darkorange', lw=lw, label='ROC curve (area = %0.2f)' % roc_auc)\n",
    "plt.plot([0, 1], [0, 1], color='navy', lw=lw, linestyle='--')  # random predictions curve\n",
    "plt.xlim([0.0, 1.0])\n",
    "plt.ylim([0.0, 1.05])\n",
    "plt.xlabel('False Positive Rate')\n",
    "plt.ylabel('True Positive Rate')\n",
    "plt.title('Receiver Operating Characteristic example')\n",
    "plt.legend(loc=\"lower right\")\n",
    "plt.show()"
   ]
  }
 ],
 "metadata": {
  "kernelspec": {
   "display_name": "Python 3 (ipykernel)",
   "language": "python",
   "name": "python3"
  },
  "language_info": {
   "codemirror_mode": {
    "name": "ipython",
    "version": 3
   },
   "file_extension": ".py",
   "mimetype": "text/x-python",
   "name": "python",
   "nbconvert_exporter": "python",
   "pygments_lexer": "ipython3",
   "version": "3.11.5"
  }
 },
 "nbformat": 4,
 "nbformat_minor": 5
}
