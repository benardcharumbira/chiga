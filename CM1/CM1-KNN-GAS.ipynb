{
 "cells": [
  {
   "cell_type": "code",
   "execution_count": 1,
   "id": "2f155644",
   "metadata": {
    "scrolled": true
   },
   "outputs": [
    {
     "name": "stdout",
     "output_type": "stream",
     "text": [
      "Requirement already satisfied: deap in c:\\users\\user\\appdata\\local\\programs\\python\\python311\\lib\\site-packages (1.4.1)\n",
      "Requirement already satisfied: numpy in c:\\users\\user\\appdata\\local\\programs\\python\\python311\\lib\\site-packages (from deap) (1.26.0)\n"
     ]
    },
    {
     "name": "stderr",
     "output_type": "stream",
     "text": [
      "\n",
      "[notice] A new release of pip is available: 23.3.1 -> 24.3.1\n",
      "[notice] To update, run: python.exe -m pip install --upgrade pip\n"
     ]
    }
   ],
   "source": [
    "import sys\n",
    "!{sys.executable} -m pip install deap"
   ]
  },
  {
   "cell_type": "code",
   "execution_count": 2,
   "id": "80690e01",
   "metadata": {},
   "outputs": [],
   "source": [
    "# Import necessary libraries\n",
    "import pandas as pd\n",
    "import numpy as np\n",
    "from sklearn.model_selection import train_test_split, cross_val_score\n",
    "from sklearn.neighbors import KNeighborsClassifier\n",
    "from sklearn.metrics import classification_report, accuracy_score, classification_report\n",
    "from deap import base, creator, tools, algorithms\n",
    "import random\n",
    "\n",
    "# Load dataset (using the JM1 dataset as an example)\n",
    "data = pd.read_csv('./cm1.csv')\n",
    "\n",
    "# Drop any missing values\n",
    "data = data.dropna()\n",
    "\n",
    "# Separate features and target\n",
    "X = data.iloc[:, :-1]\n",
    "y = data.iloc[:, -1]\n",
    "\n",
    "\n",
    "# Split dataset into training and testing sets\n",
    "X_train, X_test, y_train, y_test = train_test_split(X, y, test_size=0.3, random_state=42)\n"
   ]
  },
  {
   "cell_type": "code",
   "execution_count": 3,
   "id": "be5fcd78",
   "metadata": {},
   "outputs": [],
   "source": [
    "# Define the evaluation function for the Genetic Algorithm\n",
    "def evalFeatureSelection(individual):\n",
    "    selected_features = [i for i, val in enumerate(individual) if val == 1]\n",
    "    if len(selected_features) == 0:\n",
    "        return (0,)\n",
    "    \n",
    "    X_train_selected = X_train.iloc[:, selected_features]\n",
    "    X_test_selected = X_test.iloc[:, selected_features]\n",
    "    \n",
    "    clf = KNeighborsClassifier()\n",
    "    clf.fit(X_train_selected, y_train)\n",
    "    y_pred = clf.predict(X_test_selected)\n",
    "    accuracy = accuracy_score(y_test, y_pred)\n",
    "    return (accuracy,)"
   ]
  },
  {
   "cell_type": "code",
   "execution_count": 4,
   "id": "d4361907",
   "metadata": {},
   "outputs": [],
   "source": [
    "# Set up the Genetic Algorithm using DEAP\n",
    "\n",
    "# Create the types\n",
    "creator.create(\"FitnessMax\", base.Fitness, weights=(1.0,))\n",
    "creator.create(\"Individual\", list, fitness=creator.FitnessMax)\n",
    "\n",
    "# Register the functions\n",
    "toolbox = base.Toolbox()\n",
    "toolbox.register(\"attr_bool\", random.randint, 0, 1)\n",
    "toolbox.register(\"individual\", tools.initRepeat, creator.Individual, toolbox.attr_bool, n=X_train.shape[1])\n",
    "toolbox.register(\"population\", tools.initRepeat, list, toolbox.individual)\n",
    "\n",
    "toolbox.register(\"mate\", tools.cxTwoPoint)\n",
    "toolbox.register(\"mutate\", tools.mutFlipBit, indpb=0.05)\n",
    "toolbox.register(\"select\", tools.selTournament, tournsize=3)\n",
    "toolbox.register(\"evaluate\", evalFeatureSelection)\n",
    "\n"
   ]
  },
  {
   "cell_type": "code",
   "execution_count": 5,
   "id": "5909b507",
   "metadata": {},
   "outputs": [
    {
     "name": "stdout",
     "output_type": "stream",
     "text": [
      "gen\tnevals\tavg     \tmin \tmax\n",
      "0  \t50    \t0.874133\t0.86\t0.9\n",
      "1  \t39    \t0.874267\t0.86\t0.886667\n",
      "2  \t36    \t0.875333\t0.866667\t0.893333\n",
      "3  \t30    \t0.878533\t0.86    \t0.9     \n",
      "4  \t31    \t0.883333\t0.86    \t0.9     \n",
      "5  \t36    \t0.8876  \t0.866667\t0.9     \n",
      "6  \t27    \t0.891067\t0.853333\t0.906667\n",
      "7  \t39    \t0.894   \t0.853333\t0.906667\n",
      "8  \t22    \t0.8988  \t0.86    \t0.906667\n",
      "9  \t28    \t0.902133\t0.873333\t0.906667\n",
      "10 \t36    \t0.9052  \t0.873333\t0.906667\n",
      "11 \t31    \t0.903467\t0.86    \t0.906667\n",
      "12 \t31    \t0.905067\t0.873333\t0.906667\n",
      "13 \t24    \t0.904267\t0.86    \t0.906667\n",
      "14 \t33    \t0.905733\t0.873333\t0.906667\n",
      "15 \t28    \t0.9044  \t0.866667\t0.906667\n",
      "16 \t23    \t0.904133\t0.86    \t0.906667\n",
      "17 \t19    \t0.9056  \t0.873333\t0.906667\n",
      "18 \t34    \t0.904667\t0.866667\t0.906667\n",
      "19 \t28    \t0.904133\t0.86    \t0.906667\n",
      "20 \t30    \t0.904667\t0.873333\t0.906667\n"
     ]
    }
   ],
   "source": [
    "# Run the Genetic Algorithm for feature selection:\n",
    "pop = toolbox.population(n=50)\n",
    "hof = tools.HallOfFame(1)\n",
    "stats = tools.Statistics(lambda ind: ind.fitness.values)\n",
    "stats.register(\"avg\", np.mean)\n",
    "stats.register(\"min\", np.min)\n",
    "stats.register(\"max\", np.max)\n",
    "pop, logbook = algorithms.eaSimple(pop, toolbox, cxpb=0.5, mutpb=0.2, ngen=20, stats=stats, halloffame=hof, verbose=True)"
   ]
  },
  {
   "cell_type": "code",
   "execution_count": 6,
   "id": "bc80ddc7",
   "metadata": {},
   "outputs": [
    {
     "name": "stdout",
     "output_type": "stream",
     "text": [
      "Best individual:  [0, 1, 1, 0, 0, 0, 1, 0, 1, 0, 0, 0, 0, 1, 0, 1, 0, 0, 1, 0, 1]\n",
      "Number of selected features:  8\n"
     ]
    }
   ],
   "source": [
    "# Train and evaluate the Naive Bayes classifier using the best feature subset found:\n",
    "best_individual = hof[0]\n",
    "selected_features = [i for i, val in enumerate(best_individual) if val == 1]\n",
    "print(\"Best individual: \", best_individual)\n",
    "print(\"Number of selected features: \", len(selected_features))"
   ]
  },
  {
   "cell_type": "code",
   "execution_count": 7,
   "id": "00091382",
   "metadata": {
    "scrolled": true
   },
   "outputs": [
    {
     "name": "stdout",
     "output_type": "stream",
     "text": [
      "Accuracy:  0.9066666666666666\n",
      "              precision    recall  f1-score   support\n",
      "\n",
      "       False       0.91      1.00      0.95       134\n",
      "        True       1.00      0.12      0.22        16\n",
      "\n",
      "    accuracy                           0.91       150\n",
      "   macro avg       0.95      0.56      0.59       150\n",
      "weighted avg       0.92      0.91      0.87       150\n",
      "\n"
     ]
    }
   ],
   "source": [
    "# Train the classifier\n",
    "X_train_selected = X_train.iloc[:, selected_features]\n",
    "X_test_selected = X_test.iloc[:, selected_features]\n",
    "clf = KNeighborsClassifier()\n",
    "clf.fit(X_train_selected, y_train)\n",
    "\n",
    "# Test the classifier\n",
    "y_pred = clf.predict(X_test_selected)\n",
    "print(\"Accuracy: \", accuracy_score(y_test, y_pred))\n",
    "print(classification_report(y_test, y_pred))"
   ]
  },
  {
   "cell_type": "code",
   "execution_count": 8,
   "id": "a79e41d7",
   "metadata": {},
   "outputs": [
    {
     "data": {
      "image/png": "[encoded data removed]",
      "text/plain": [
       "<Figure size 640x480 with 1 Axes>"
      ]
     },
     "metadata": {},
     "output_type": "display_data"
    }
   ],
   "source": [
    "import matplotlib.pyplot as plt\n",
    "from sklearn.metrics import roc_curve, roc_auc_score\n",
    "\n",
    "# probabilities for the positive outcome\n",
    "y_pred_proba = clf.predict_proba(X_test_selected)[:,1]\n",
    "# Compute ROC curve and ROC area\n",
    "fpr, tpr, _ = roc_curve(y_test, y_pred_proba)  # false positive rate and true positive rate\n",
    "roc_auc = roc_auc_score(y_test, y_pred_proba)\n",
    "\n",
    "#Save AUC values\n",
    "df = pd.DataFrame({\n",
    "    'AUC': roc_auc,\n",
    "    'FPR': fpr,\n",
    "    'TPR': tpr\n",
    "})\n",
    "df.to_csv('./AUC_Extracts/CM1/CM1_KNN_GAS.csv', index=False)\n",
    "\n",
    "# Plot\n",
    "plt.figure()\n",
    "lw = 2  # line width\n",
    "plt.plot(fpr, tpr, color='darkorange', lw=lw, label='ROC curve (area = %0.2f)' % roc_auc)\n",
    "plt.plot([0, 1], [0, 1], color='navy', lw=lw, linestyle='--')  # random predictions curve\n",
    "plt.xlim([0.0, 1.0])\n",
    "plt.ylim([0.0, 1.05])\n",
    "plt.xlabel('False Positive Rate')\n",
    "plt.ylabel('True Positive Rate')\n",
    "plt.title('CM1-KNN-GAS')\n",
    "plt.legend(loc=\"lower right\")\n",
    "plt.show()"
   ]
  }
 ],
 "metadata": {
  "kernelspec": {
   "display_name": "Python 3 (ipykernel)",
   "language": "python",
   "name": "python3"
  },
  "language_info": {
   "codemirror_mode": {
    "name": "ipython",
    "version": 3
   },
   "file_extension": ".py",
   "mimetype": "text/x-python",
   "name": "python",
   "nbconvert_exporter": "python",
   "pygments_lexer": "ipython3",
   "version": "3.11.5"
  }
 },
 "nbformat": 4,
 "nbformat_minor": 5
}
