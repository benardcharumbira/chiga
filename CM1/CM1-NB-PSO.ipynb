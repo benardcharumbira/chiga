{
 "cells": [
  {
   "cell_type": "code",
   "execution_count": 1,
   "id": "2f155644",
   "metadata": {},
   "outputs": [
    {
     "name": "stdout",
     "output_type": "stream",
     "text": [
      "Requirement already satisfied: deap in /Users/benardcharumbira/opt/anaconda3/lib/python3.9/site-packages (1.3.3)\r\n",
      "Requirement already satisfied: numpy in /Users/benardcharumbira/opt/anaconda3/lib/python3.9/site-packages (from deap) (1.21.5)\r\n"
     ]
    }
   ],
   "source": [
    "import sys\n",
    "!{sys.executable} -m pip install deap"
   ]
  },
  {
   "cell_type": "code",
   "execution_count": 2,
   "id": "cc4d3488",
   "metadata": {},
   "outputs": [
    {
     "name": "stdout",
     "output_type": "stream",
     "text": [
      "Requirement already satisfied: pyswarms in /Users/benardcharumbira/opt/anaconda3/lib/python3.9/site-packages (1.3.0)\n",
      "Requirement already satisfied: tqdm in /Users/benardcharumbira/opt/anaconda3/lib/python3.9/site-packages (from pyswarms) (4.64.0)\n",
      "Requirement already satisfied: numpy in /Users/benardcharumbira/opt/anaconda3/lib/python3.9/site-packages (from pyswarms) (1.21.5)\n",
      "Requirement already satisfied: pyyaml in /Users/benardcharumbira/opt/anaconda3/lib/python3.9/site-packages (from pyswarms) (6.0)\n",
      "Requirement already satisfied: future in /Users/benardcharumbira/opt/anaconda3/lib/python3.9/site-packages (from pyswarms) (0.18.2)\n",
      "Requirement already satisfied: scipy in /Users/benardcharumbira/opt/anaconda3/lib/python3.9/site-packages (from pyswarms) (1.7.3)\n",
      "Requirement already satisfied: attrs in /Users/benardcharumbira/opt/anaconda3/lib/python3.9/site-packages (from pyswarms) (21.4.0)\n",
      "Requirement already satisfied: matplotlib>=1.3.1 in /Users/benardcharumbira/opt/anaconda3/lib/python3.9/site-packages (from pyswarms) (3.5.1)\n",
      "Requirement already satisfied: python-dateutil>=2.7 in /Users/benardcharumbira/opt/anaconda3/lib/python3.9/site-packages (from matplotlib>=1.3.1->pyswarms) (2.8.2)\n",
      "Requirement already satisfied: cycler>=0.10 in /Users/benardcharumbira/opt/anaconda3/lib/python3.9/site-packages (from matplotlib>=1.3.1->pyswarms) (0.11.0)\n",
      "Requirement already satisfied: fonttools>=4.22.0 in /Users/benardcharumbira/opt/anaconda3/lib/python3.9/site-packages (from matplotlib>=1.3.1->pyswarms) (4.25.0)\n",
      "Requirement already satisfied: kiwisolver>=1.0.1 in /Users/benardcharumbira/opt/anaconda3/lib/python3.9/site-packages (from matplotlib>=1.3.1->pyswarms) (1.4.2)\n",
      "Requirement already satisfied: packaging>=20.0 in /Users/benardcharumbira/opt/anaconda3/lib/python3.9/site-packages (from matplotlib>=1.3.1->pyswarms) (21.3)\n",
      "Requirement already satisfied: pillow>=6.2.0 in /Users/benardcharumbira/opt/anaconda3/lib/python3.9/site-packages (from matplotlib>=1.3.1->pyswarms) (9.0.1)\n",
      "Requirement already satisfied: pyparsing>=2.2.1 in /Users/benardcharumbira/opt/anaconda3/lib/python3.9/site-packages (from matplotlib>=1.3.1->pyswarms) (3.0.4)\n",
      "Requirement already satisfied: six>=1.5 in /Users/benardcharumbira/opt/anaconda3/lib/python3.9/site-packages (from python-dateutil>=2.7->matplotlib>=1.3.1->pyswarms) (1.16.0)\n"
     ]
    }
   ],
   "source": [
    "import sys\n",
    "!{sys.executable} -m pip install pyswarms"
   ]
  },
  {
   "cell_type": "code",
   "execution_count": 3,
   "id": "80690e01",
   "metadata": {},
   "outputs": [],
   "source": [
    "# Import necessary libraries\n",
    "import pandas as pd\n",
    "import numpy as np\n",
    "import pyswarms as ps\n",
    "from sklearn.model_selection import train_test_split, cross_val_score\n",
    "from sklearn.naive_bayes import GaussianNB\n",
    "from sklearn.metrics import classification_report, accuracy_score\n",
    "from deap import base, creator, tools, algorithms\n",
    "from pyswarms.utils.functions import single_obj as fx\n",
    "import random\n",
    "\n",
    "# Load dataset (using the JM1 dataset as an example)\n",
    "data = pd.read_csv('./jm1.csv')\n",
    "\n",
    "# Drop any missing values\n",
    "data = data.dropna()\n",
    "\n",
    "# Separate features and target\n",
    "X = data.iloc[:, :-1]\n",
    "y = data.iloc[:, -1]\n",
    "\n",
    "\n",
    "# Split dataset into training and testing sets\n",
    "X_train, X_test, y_train, y_test = train_test_split(X, y, test_size=0.3, random_state=42)\n"
   ]
  },
  {
   "cell_type": "code",
   "execution_count": 4,
   "id": "be5fcd78",
   "metadata": {},
   "outputs": [],
   "source": [
    "# Define the evaluation function for PSO\n",
    "def evalFeatureSelection(x):\n",
    "    n_particles = x.shape[0]\n",
    "    fitness = []\n",
    "\n",
    "    for i in range(n_particles):\n",
    "        individual = [1 if val > 0.5 else 0 for val in x[i]]\n",
    "        selected_features = [i for i, val in enumerate(individual) if val == 1]\n",
    "\n",
    "        if len(selected_features) == 0:\n",
    "            fitness.append(0)\n",
    "            continue\n",
    "        \n",
    "        X_train_selected = X_train.iloc[:, selected_features]\n",
    "        X_test_selected = X_test.iloc[:, selected_features]\n",
    "\n",
    "        clf = GaussianNB()\n",
    "        clf.fit(X_train_selected, y_train)\n",
    "        y_pred = clf.predict(X_test_selected)\n",
    "        accuracy = accuracy_score(y_test, y_pred)\n",
    "        fitness.append(accuracy)\n",
    "    \n",
    "    return np.array(fitness)"
   ]
  },
  {
   "cell_type": "code",
   "execution_count": 5,
   "id": "d4361907",
   "metadata": {},
   "outputs": [],
   "source": [
    "# Configure the PSO algorithm:\n",
    "n_features = X_train.shape[1]\n",
    "options = {'c1': 0.5, 'c2': 0.3, 'w': 0.9}\n",
    "bounds = (np.zeros(n_features), np.ones(n_features))\n",
    "optimizer = ps.single.GlobalBestPSO(n_particles=30, dimensions=n_features, options=options, bounds=bounds)\n"
   ]
  },
  {
   "cell_type": "code",
   "execution_count": 6,
   "id": "5909b507",
   "metadata": {},
   "outputs": [
    {
     "name": "stderr",
     "output_type": "stream",
     "text": [
      "2023-08-30 10:34:31,916 - pyswarms.single.global_best - INFO - Optimize for 20 iters with {'c1': 0.5, 'c2': 0.3, 'w': 0.9}\n",
      "pyswarms.single.global_best: 100%|███████████████████████|20/20, best_cost=0.784\n",
      "2023-08-30 10:34:33,180 - pyswarms.single.global_best - INFO - Optimization finished | best cost: 0.7837009803921569, best pos: [0.28255168 0.24933502 0.12765569 0.43841703 0.58984837 0.20969973\n",
      " 0.14168347 0.60598219 0.18149841 0.12601423 0.4843051  0.17815109\n",
      " 0.41496207 0.16100669 0.30285427 0.32892496 0.9456729  0.24590976\n",
      " 0.22579356 0.10518874 0.37719735]\n"
     ]
    }
   ],
   "source": [
    "# Run the PSO algorithm for feature selection:\n",
    "cost, pos = optimizer.optimize(evalFeatureSelection, iters=20, verbose=True)"
   ]
  },
  {
   "cell_type": "code",
   "execution_count": 7,
   "id": "bc80ddc7",
   "metadata": {},
   "outputs": [
    {
     "name": "stdout",
     "output_type": "stream",
     "text": [
      "Number of selected features:  3\n"
     ]
    }
   ],
   "source": [
    "# Train and evaluate the Naive Bayes classifier using the best feature subset found:\n",
    "best_individual = [1 if val > 0.5 else 0 for val in pos]\n",
    "selected_features = [i for i, val in enumerate(best_individual) if val == 1]\n",
    "print(\"Number of selected features: \", len(selected_features))"
   ]
  },
  {
   "cell_type": "code",
   "execution_count": 8,
   "id": "00091382",
   "metadata": {},
   "outputs": [
    {
     "name": "stdout",
     "output_type": "stream",
     "text": [
      "Accuracy:  0.7837009803921569\n",
      "              precision    recall  f1-score   support\n",
      "\n",
      "       False       0.82      0.94      0.87      2619\n",
      "        True       0.39      0.16      0.23       645\n",
      "\n",
      "    accuracy                           0.78      3264\n",
      "   macro avg       0.60      0.55      0.55      3264\n",
      "weighted avg       0.73      0.78      0.75      3264\n",
      "\n"
     ]
    }
   ],
   "source": [
    "# Train the classifier\n",
    "X_train_selected = X_train.iloc[:, selected_features]\n",
    "X_test_selected = X_test.iloc[:, selected_features]\n",
    "clf = GaussianNB()\n",
    "clf.fit(X_train_selected, y_train)\n",
    "\n",
    "# Test the classifier\n",
    "y_pred = clf.predict(X_test_selected)\n",
    "print(\"Accuracy: \", accuracy_score(y_test, y_pred))\n",
    "print(classification_report(y_test, y_pred))"
   ]
  },
  {
   "cell_type": "code",
   "execution_count": 9,
   "id": "59ef19ad",
   "metadata": {},
   "outputs": [
    {
     "data": {
      "image/png": "[encoded data removed]",
      "text/plain": [
       "<Figure size 432x288 with 1 Axes>"
      ]
     },
     "metadata": {
      "needs_background": "light"
     },
     "output_type": "display_data"
    }
   ],
   "source": [
    "import matplotlib.pyplot as plt\n",
    "from sklearn.metrics import roc_curve, roc_auc_score\n",
    "\n",
    "# probabilities for the positive outcome\n",
    "y_pred_proba = clf.predict_proba(X_test_selected)[:,1]\n",
    "# Compute ROC curve and ROC area\n",
    "fpr, tpr, _ = roc_curve(y_test, y_pred_proba)  # false positive rate and true positive rate\n",
    "roc_auc = roc_auc_score(y_test, y_pred_proba)\n",
    "\n",
    "#Save AUC values\n",
    "df = pd.DataFrame({\n",
    "    'FPR': fpr,\n",
    "    'TPR': tpr,\n",
    "    'AUC': roc_auc\n",
    "})\n",
    "df.to_csv('./AUC_Extracts/CM1/CM1_NB_PSO.csv', index=False)\n",
    "\n",
    "\n",
    "# Plot\n",
    "plt.figure()\n",
    "lw = 2  # line width\n",
    "plt.plot(fpr, tpr, color='darkorange', lw=lw, label='ROC curve (area = %0.2f)' % roc_auc)\n",
    "plt.plot([0, 1], [0, 1], color='navy', lw=lw, linestyle='--')  # random predictions curve\n",
    "plt.xlim([0.0, 1.0])\n",
    "plt.ylim([0.0, 1.05])\n",
    "plt.xlabel('False Positive Rate')\n",
    "plt.ylabel('True Positive Rate')\n",
    "plt.title('Receiver Operating Characteristic example')\n",
    "plt.legend(loc=\"lower right\")\n",
    "plt.show()"
   ]
  }
 ],
 "metadata": {
  "kernelspec": {
   "display_name": "Python 3 (ipykernel)",
   "language": "python",
   "name": "python3"
  },
  "language_info": {
   "codemirror_mode": {
    "name": "ipython",
    "version": 3
   },
   "file_extension": ".py",
   "mimetype": "text/x-python",
   "name": "python",
   "nbconvert_exporter": "python",
   "pygments_lexer": "ipython3",
   "version": "3.11.5"
  }
 },
 "nbformat": 4,
 "nbformat_minor": 5
}
